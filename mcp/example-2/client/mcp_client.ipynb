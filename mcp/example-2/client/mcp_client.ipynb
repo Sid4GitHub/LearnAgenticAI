{
 "cells": [
  {
   "cell_type": "code",
   "execution_count": 1,
   "id": "d1796c79",
   "metadata": {},
   "outputs": [],
   "source": [
    "from langchain_mcp_tools import convert_mcp_to_langchain_tools\n",
    "from langchain_ollama import ChatOllama\n",
    "from langgraph.prebuilt import create_react_agent\n",
    "import asyncio"
   ]
  },
  {
   "cell_type": "code",
   "execution_count": 2,
   "id": "f488edc0",
   "metadata": {},
   "outputs": [],
   "source": [
    "async def main():\n",
    "    # NOTE: No need to instantiate fastmcp.Client here\n",
    "    # convert_mcp_to_langchain_tools will handle servers for you\n",
    "    tools, cleanup = await convert_mcp_to_langchain_tools({\n",
    "        \"math\": {\n",
    "            \"url\": \"http://localhost:8000/mcp/\",\n",
    "            \"transport\": \"streamable-http\",\n",
    "        }\n",
    "    })\n",
    "\n",
    "    llm   = ChatOllama(model=\"llama3.2:3b\", temperature=0)\n",
    "    agent = create_react_agent(llm, tools)\n",
    "\n",
    "    # Example queries\n",
    "    for query in [\"What is 7 + 13?\", \"Compute 6 × 9.\"]:\n",
    "        result = await agent.ainvoke(\n",
    "            {\"messages\": [{\"role\": \"user\", \"content\": query}]}\n",
    "        )\n",
    "        last   = result[\"messages\"][-1]\n",
    "        answer = last.get(\"content\") if isinstance(last, dict) else last.content\n",
    "        print(f\"Query: {query}\\nAnswer: {answer}\\n\")\n",
    "\n",
    "    # Clean up MCP server sessions\n",
    "    await cleanup()"
   ]
  },
  {
   "cell_type": "code",
   "execution_count": 3,
   "id": "68a9a4d5",
   "metadata": {},
   "outputs": [
    {
     "name": "stderr",
     "output_type": "stream",
     "text": [
      "\u001b[90m[INFO]\u001b[0m MCP server \"math\": initializing with: {'url': 'http://localhost:8000/mcp/', 'transport': 'streamable-http'}\n",
      "\u001b[90m[INFO]\u001b[0m MCP server \"math\": Pre-validating authentication\n",
      "\u001b[90m[INFO]\u001b[0m MCP server \"math\": Authentication validation passed: 200\n",
      "\u001b[90m[INFO]\u001b[0m MCP server \"math\": testing Streamable HTTP support for http://localhost:8000/mcp/\n",
      "\u001b[90m[INFO]\u001b[0m MCP server \"math\": detected Streamable HTTP transport support\n",
      "\u001b[90m[INFO]\u001b[0m Received session ID: b7bc0f5cfd964612bde1d4c665ad7607\n",
      "\u001b[90m[INFO]\u001b[0m Negotiated protocol version: 2025-06-18\n",
      "\u001b[90m[INFO]\u001b[0m MCP server \"math\": connected\n",
      "\u001b[90m[INFO]\u001b[0m MCP server \"math\": 2 tool(s) available:\n",
      "\u001b[90m[INFO]\u001b[0m - add\n",
      "\u001b[90m[INFO]\u001b[0m - multiply\n",
      "\u001b[90m[INFO]\u001b[0m MCP servers initialized: 2 tool(s) available in total\n",
      "\u001b[90m[INFO]\u001b[0m MCP tool \"math\"/\"add\" received input: {'a': 7, 'b': 13}\n",
      "\u001b[90m[INFO]\u001b[0m MCP tool \"math\"/\"add\" received result (size: 2)\n"
     ]
    },
    {
     "name": "stdout",
     "output_type": "stream",
     "text": [
      "Query: What is 7 + 13?\n",
      "Answer: The answer to the original question, \"What is 7 + 13?\", is 20.\n",
      "\n"
     ]
    },
    {
     "name": "stderr",
     "output_type": "stream",
     "text": [
      "\u001b[90m[INFO]\u001b[0m MCP tool \"math\"/\"multiply\" received input: {'a': 6, 'b': 9}\n",
      "\u001b[90m[INFO]\u001b[0m MCP tool \"math\"/\"multiply\" received result (size: 2)\n",
      "\u001b[90m[INFO]\u001b[0m MCP server \"math\": session closed\n"
     ]
    },
    {
     "name": "stdout",
     "output_type": "stream",
     "text": [
      "Query: Compute 6 × 9.\n",
      "Answer: The result of multiplying 6 and 9 is 54.\n",
      "\n"
     ]
    }
   ],
   "source": [
    "await main()"
   ]
  }
 ],
 "metadata": {
  "kernelspec": {
   "display_name": "Python 3",
   "language": "python",
   "name": "python3"
  },
  "language_info": {
   "codemirror_mode": {
    "name": "ipython",
    "version": 3
   },
   "file_extension": ".py",
   "mimetype": "text/x-python",
   "name": "python",
   "nbconvert_exporter": "python",
   "pygments_lexer": "ipython3",
   "version": "3.11.13"
  }
 },
 "nbformat": 4,
 "nbformat_minor": 5
}
