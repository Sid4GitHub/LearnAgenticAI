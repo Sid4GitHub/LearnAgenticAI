{
 "cells": [
  {
   "cell_type": "code",
   "execution_count": 5,
   "id": "a65a2a7e",
   "metadata": {},
   "outputs": [],
   "source": [
    "import requests\n",
    "from langchain.llms.base import LLM\n",
    "from typing import List, Optional\n",
    "from langchain.prompts import PromptTemplate\n",
    "\n",
    "class OllamaLLM(LLM):\n",
    "    model: str = \"gemma3n:e2b\"\n",
    "    url: str = \"http://localhost:11434/api/chat\"\n",
    "\n",
    "    @property\n",
    "    def _llm_type(self) -> str:\n",
    "        return \"ollama\"\n",
    "\n",
    "    def _call(self, prompt: str, stop: Optional[List[str]] = None) -> str:\n",
    "        payload = {\n",
    "            \"model\": self.model,\n",
    "            \"messages\": [\n",
    "                {\n",
    "                    \"role\": \"user\",\n",
    "                    \"content\": prompt\n",
    "                }\n",
    "            ],\n",
    "            \"stream\": False,\n",
    "        }\n",
    "        response = requests.post(self.url, json=payload)\n",
    "        response.raise_for_status()\n",
    "        data = response.json()\n",
    "        # Adjust this if the response format is different\n",
    "        return data.get('message', {}).get('content', str(data))\n",
    "\n",
    "# Usage example\n",
    "ollama_llm = OllamaLLM()\n"
   ]
  },
  {
   "cell_type": "code",
   "execution_count": 4,
   "id": "2dd98048",
   "metadata": {},
   "outputs": [
    {
     "name": "stdout",
     "output_type": "stream",
     "text": [
      "The capital of France is **Paris**. \n",
      "\n"
     ]
    }
   ],
   "source": [
    "res = ollama_llm.invoke(\"What is the capital of France?\")\n",
    "print(res) "
   ]
  }
 ],
 "metadata": {
  "kernelspec": {
   "display_name": "Python 3",
   "language": "python",
   "name": "python3"
  },
  "language_info": {
   "codemirror_mode": {
    "name": "ipython",
    "version": 3
   },
   "file_extension": ".py",
   "mimetype": "text/x-python",
   "name": "python",
   "nbconvert_exporter": "python",
   "pygments_lexer": "ipython3",
   "version": "3.12.3"
  }
 },
 "nbformat": 4,
 "nbformat_minor": 5
}
