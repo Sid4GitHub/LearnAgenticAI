{
 "cells": [
  {
   "cell_type": "code",
   "execution_count": 1,
   "id": "1eeb0929",
   "metadata": {},
   "outputs": [],
   "source": [
    "from langchain_ollama import ChatOllama"
   ]
  },
  {
   "cell_type": "code",
   "execution_count": 2,
   "id": "8bfb2e60",
   "metadata": {},
   "outputs": [],
   "source": [
    "llm  = ChatOllama(model=\"llama3.1:8b\", temperature=0.3)"
   ]
  },
  {
   "cell_type": "code",
   "execution_count": 3,
   "id": "51d998ad",
   "metadata": {},
   "outputs": [],
   "source": [
    "#response = llm.invoke(\"What is the capital of France?\")\n",
    "#print(response.content)"
   ]
  },
  {
   "cell_type": "code",
   "execution_count": 4,
   "id": "5a8b96ae",
   "metadata": {},
   "outputs": [
    {
     "name": "stdout",
     "output_type": "stream",
     "text": [
      "{\n",
      "  \"thought\": \"Paris is widely recognized as the capital of France due to its historical and cultural significance.\",\n",
      "  \"output\": \"Paris\"\n",
      "}\n"
     ]
    }
   ],
   "source": [
    "\n",
    "\n",
    "task = \"What is the capital of France?\"\n",
    "prompt = f\"\"\"\n",
    "**TASK**: {task}\n",
    "\n",
    "**INSTRUCTIONS**:\n",
    "1. THINK INTERNALLY - Do NOT output any thinking steps\n",
    "2. Generate EXACTLY ONE JSON object\n",
    "3. JSON structure MUST contain:\n",
    "   - \"thought\": 1-sentence reasoning\n",
    "   - \"output\": Final answer\n",
    "4. **STRICT PROHIBITIONS**:\n",
    "   - NO XML/HTML tags (<think> etc)\n",
    "   - NO additional text before/after JSON\n",
    "   - NO markdown formatting (```json etc)\n",
    "   - NO explanations outside JSON\n",
    "\n",
    "**OUTPUT MUST BE PARSABLE AS RAW JSON**:\n",
    "{{\n",
    "    \"thought\": \"Brief reasoning here\",\n",
    "    \"output\": \"Final answer here\"\n",
    "}}\n",
    "\n",
    "**EXAMPLE ACCEPTABLE RESPONSE**:\n",
    "{{\n",
    "    \"thought\": \"Paris is France's capital based on geographical facts\",\n",
    "    \"output\": \"Paris\"\n",
    "}}\n",
    "\n",
    "**WARNING**: If you include ANY non-JSON elements, the system will fail.\n",
    "\"\"\"\n",
    "\n",
    "response = llm.invoke(prompt)\n",
    "print(response.content)"
   ]
  },
  {
   "cell_type": "code",
   "execution_count": 5,
   "id": "c972076e",
   "metadata": {},
   "outputs": [
    {
     "name": "stdout",
     "output_type": "stream",
     "text": [
      "To determine the capital of France, I will follow these steps:\n",
      "\n",
      "1. Recall general knowledge about countries and their capitals.\n",
      "2. Specifically think about France and its geographical location in Europe.\n",
      "3. Associate France with its well-known cities.\n",
      "\n",
      "Based on this process, I remember that Paris is a major city in France and is often considered the country's capital due to its historical significance and central role in French politics and culture.\n",
      "\n",
      "Here is the final output:\n",
      "\n",
      "```json\n",
      "{\n",
      "    \"thought\": \"I recalled general knowledge about countries and their capitals. Specifically, I thought about France and its geographical location in Europe. I associated France with its well-known cities, including Paris, which is often considered the country's capital due to its historical significance and central role in French politics and culture.\",\n",
      "    \"output\": \"Paris\"\n",
      "}\n",
      "```\n"
     ]
    }
   ],
   "source": [
    "task = \"What is the capital of France?\"\n",
    "prompt = f\"\"\"\n",
    "You are a helpful assistant. First, think through the task step by step. Then provide the final output.\n",
    "\n",
    "Task: {task}\n",
    "\n",
    "**CORE RULES**\n",
    "1. ALWAYS output exactly ONE JSON object per the structure below\n",
    "2. The JSON object should contain:\n",
    "   - \"thought\": A detailed explanation of how you arrived at the answer.\n",
    "   - \"output\": The final answer to the task.\n",
    "\n",
    "**REQUIRED FORMAT**:\n",
    "```json\n",
    "{{\n",
    "    \"thought\": ...,\n",
    "    \"output\": ...\n",
    "}}\n",
    "```\n",
    "\"\"\"\n",
    "\n",
    "response = llm.invoke(prompt)\n",
    "print(response.content)"
   ]
  },
  {
   "cell_type": "code",
   "execution_count": 6,
   "id": "59c1453b",
   "metadata": {},
   "outputs": [
    {
     "name": "stdout",
     "output_type": "stream",
     "text": [
      "{\n",
      "    \"thought\": \"To determine the capital of France, I will recall my knowledge of geography and history.\",\n",
      "    \"output\": \"Paris\"\n",
      "}\n"
     ]
    }
   ],
   "source": [
    "\n",
    "task = \"What is the capital of France?\"\n",
    "prompt = f\"\"\"\n",
    "You are a helpful assistant. First, think through the task step by step internally. Then provide ONLY the required JSON object.\n",
    "\n",
    "Task: {task}\n",
    "\n",
    "**STRICT RULES**\n",
    "1. Output EXACTLY ONE valid JSON object\n",
    "2. JSON structure MUST contain:\n",
    "   - \"thought\": Detailed reasoning (1-2 sentences)\n",
    "   - \"output\": Final answer\n",
    "3. NEVER include ANY other text, formatting, or XML tags\n",
    "4. Ensure the response can be directly parsed as JSON\n",
    "\n",
    "**REQUIRED OUTPUT FORMAT**:\n",
    "{{\n",
    "    \"thought\": \"Your reasoning here\",\n",
    "    \"output\": \"Final answer here\"\n",
    "}}\n",
    "\"\"\"\n",
    "response = llm.invoke(prompt)\n",
    "print(response.content)"
   ]
  }
 ],
 "metadata": {
  "kernelspec": {
   "display_name": "Python 3",
   "language": "python",
   "name": "python3"
  },
  "language_info": {
   "codemirror_mode": {
    "name": "ipython",
    "version": 3
   },
   "file_extension": ".py",
   "mimetype": "text/x-python",
   "name": "python",
   "nbconvert_exporter": "python",
   "pygments_lexer": "ipython3",
   "version": "3.11.13"
  }
 },
 "nbformat": 4,
 "nbformat_minor": 5
}
