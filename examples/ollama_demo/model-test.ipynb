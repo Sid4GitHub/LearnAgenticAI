{
 "cells": [
  {
   "cell_type": "code",
   "execution_count": 1,
   "id": "1eeb0929",
   "metadata": {},
   "outputs": [],
   "source": [
    "from langchain_ollama import ChatOllama"
   ]
  },
  {
   "cell_type": "code",
   "execution_count": 2,
   "id": "8bfb2e60",
   "metadata": {},
   "outputs": [],
   "source": [
    "llm  = ChatOllama(model=\"qwen3:8b\", temperature=0.3)"
   ]
  },
  {
   "cell_type": "code",
   "execution_count": 3,
   "id": "51d998ad",
   "metadata": {},
   "outputs": [],
   "source": [
    "#response = llm.invoke(\"What is the capital of France?\")\n",
    "#print(response.content)"
   ]
  },
  {
   "cell_type": "code",
   "execution_count": 4,
   "id": "5a8b96ae",
   "metadata": {},
   "outputs": [
    {
     "name": "stdout",
     "output_type": "stream",
     "text": [
      "<think>\n",
      "Okay, the user is asking for the capital of France. Let me recall what I know. France is a country in Europe. The capital is a city that serves as the administrative center. From what I remember, Paris is the capital of France. But wait, I should make sure there's no confusion with other cities. For example, some countries have their capital in a different city than what's commonly known. But in France's case, Paris is widely recognized as the capital. Let me think if there's any historical context. Yes, Paris has been the political and cultural center for centuries. So the answer should be Paris. The JSON structure needs a thought and output. The thought should be a brief reasoning, like mentioning geographical facts. The output is Paris. Need to ensure no extra text or formatting. Just the JSON with those two fields.\n",
      "</think>\n",
      "\n",
      "{\n",
      "    \"thought\": \"Paris is France's capital based on geographical facts\",\n",
      "    \"output\": \"Paris\"\n",
      "}\n"
     ]
    }
   ],
   "source": [
    "\n",
    "\n",
    "task = \"What is the capital of France?\"\n",
    "prompt = f\"\"\"\n",
    "**TASK**: {task}\n",
    "\n",
    "**INSTRUCTIONS**:\n",
    "1. THINK INTERNALLY - Do NOT output any thinking steps\n",
    "2. Generate EXACTLY ONE JSON object\n",
    "3. JSON structure MUST contain:\n",
    "   - \"thought\": 1-sentence reasoning\n",
    "   - \"output\": Final answer\n",
    "4. **STRICT PROHIBITIONS**:\n",
    "   - NO XML/HTML tags (<think> etc)\n",
    "   - NO additional text before/after JSON\n",
    "   - NO markdown formatting (```json etc)\n",
    "   - NO explanations outside JSON\n",
    "\n",
    "**OUTPUT MUST BE PARSABLE AS RAW JSON**:\n",
    "{{\n",
    "    \"thought\": \"Brief reasoning here\",\n",
    "    \"output\": \"Final answer here\"\n",
    "}}\n",
    "\n",
    "**EXAMPLE ACCEPTABLE RESPONSE**:\n",
    "{{\n",
    "    \"thought\": \"Paris is France's capital based on geographical facts\",\n",
    "    \"output\": \"Paris\"\n",
    "}}\n",
    "\n",
    "**WARNING**: If you include ANY non-JSON elements, the system will fail.\n",
    "\"\"\"\n",
    "\n",
    "response = llm.invoke(prompt)\n",
    "print(response.content)"
   ]
  },
  {
   "cell_type": "code",
   "execution_count": 5,
   "id": "c972076e",
   "metadata": {},
   "outputs": [
    {
     "name": "stdout",
     "output_type": "stream",
     "text": [
      "<think>\n",
      "Okay, the user is asking for the capital of France. Let me think. I remember from school that France's capital is Paris. But wait, let me make sure I'm not confusing it with another country. For example, I know that Berlin is the capital of Germany, and Rome was the capital of Italy before moving to Rome. Wait, no, Rome is still Italy's capital. Wait, France's capital... Paris makes sense because that's where the Eiffel Tower is, and major political institutions like the government and the parliament are located there. Let me double-check. Yes, Paris is the capital. I think that's correct. So the answer should be Paris.\n",
      "</think>\n",
      "\n",
      "```json\n",
      "{\n",
      "    \"thought\": \"The capital of France is a well-known fact. France is a country in Europe, and its capital city is Paris. This is confirmed by historical, geographical, and political references, as Paris is where the French government, major cultural institutions, and landmarks like the Eiffel Tower are located.\",\n",
      "    \"output\": \"Paris\"\n",
      "}\n",
      "```\n"
     ]
    }
   ],
   "source": [
    "task = \"What is the capital of France?\"\n",
    "prompt = f\"\"\"\n",
    "You are a helpful assistant. First, think through the task step by step. Then provide the final output.\n",
    "\n",
    "Task: {task}\n",
    "\n",
    "**CORE RULES**\n",
    "1. ALWAYS output exactly ONE JSON object per the structure below\n",
    "2. The JSON object should contain:\n",
    "   - \"thought\": A detailed explanation of how you arrived at the answer.\n",
    "   - \"output\": The final answer to the task.\n",
    "\n",
    "**REQUIRED FORMAT**:\n",
    "```json\n",
    "{{\n",
    "    \"thought\": ...,\n",
    "    \"output\": ...\n",
    "}}\n",
    "```\n",
    "\"\"\"\n",
    "\n",
    "response = llm.invoke(prompt)\n",
    "print(response.content)"
   ]
  },
  {
   "cell_type": "code",
   "execution_count": 6,
   "id": "59c1453b",
   "metadata": {},
   "outputs": [
    {
     "name": "stdout",
     "output_type": "stream",
     "text": [
      "<think>\n",
      "Okay, the user is asking for the capital of France. Let me think. I know that France is a country in Europe. The capital is a city that serves as the administrative center. From what I remember, the capital of France is Paris. Wait, let me confirm. Yes, Paris is the capital and the most populous city in France. It's also known for famous landmarks like the Eiffel Tower and the Louvre Museum. So the answer should be Paris. I need to structure the response as a JSON object with \"thought\" and \"output\" fields. The thought should explain the reasoning, and the output is the answer. Make sure there's no extra text or formatting.\n",
      "</think>\n",
      "\n",
      "{\n",
      "    \"thought\": \"The capital of France is a well-known fact, and after considering the country's administrative center, the answer is Paris.\",\n",
      "    \"output\": \"Paris\"\n",
      "}\n"
     ]
    }
   ],
   "source": [
    "\n",
    "task = \"What is the capital of France?\"\n",
    "prompt = f\"\"\"\n",
    "You are a helpful assistant. First, think through the task step by step internally. Then provide ONLY the required JSON object.\n",
    "\n",
    "Task: {task}\n",
    "\n",
    "**STRICT RULES**\n",
    "1. Output EXACTLY ONE valid JSON object\n",
    "2. JSON structure MUST contain:\n",
    "   - \"thought\": Detailed reasoning (1-2 sentences)\n",
    "   - \"output\": Final answer\n",
    "3. NEVER include ANY other text, formatting, or XML tags\n",
    "4. Ensure the response can be directly parsed as JSON\n",
    "\n",
    "**REQUIRED OUTPUT FORMAT**:\n",
    "{{\n",
    "    \"thought\": \"Your reasoning here\",\n",
    "    \"output\": \"Final answer here\"\n",
    "}}\n",
    "\"\"\"\n",
    "response = llm.invoke(prompt)\n",
    "print(response.content)"
   ]
  }
 ],
 "metadata": {
  "kernelspec": {
   "display_name": "Python 3",
   "language": "python",
   "name": "python3"
  },
  "language_info": {
   "codemirror_mode": {
    "name": "ipython",
    "version": 3
   },
   "file_extension": ".py",
   "mimetype": "text/x-python",
   "name": "python",
   "nbconvert_exporter": "python",
   "pygments_lexer": "ipython3",
   "version": "3.12.3"
  }
 },
 "nbformat": 4,
 "nbformat_minor": 5
}
