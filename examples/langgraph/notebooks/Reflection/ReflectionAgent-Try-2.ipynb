{
 "cells": [
  {
   "cell_type": "code",
   "execution_count": null,
   "id": "55b13141",
   "metadata": {},
   "outputs": [],
   "source": [
    "from langchain_ollama import ChatOllama\n",
    "from ddgs import DDGS\n",
    "import time  \n",
    "from langchain_core.tools import tool, Tool\n",
    "from langgraph.prebuilt import ToolNode\n",
    "from langchain_core.messages import HumanMessage, AIMessage, SystemMessage\n",
    "from langchain_core.prompts import PromptTemplate \n",
    "from langgraph.graph import StateGraph, START, END\n",
    "from typing import TypedDict, List, Annotated, Literal\n",
    "from langchain_core.prompts import MessagesPlaceholder\n",
    "from langchain_core.prompts import ChatPromptTemplate"
   ]
  },
  {
   "cell_type": "code",
   "execution_count": 2,
   "id": "2e64812c",
   "metadata": {},
   "outputs": [],
   "source": [
    "#llm  = ChatOllama(model=\"deepseek-r1:8b\")\n",
    "#llm  = ChatOllama(model=\"llama3.2:3b\")\n",
    "#llm  = ChatOllama(model=\"llama3.1:8b\")\n",
    "#llm  = ChatOllama(model=\"qwen3:8b\")\n",
    "#llm  = ChatOllama(model=\"qwen3:4b\")\n",
    "llm  = ChatOllama(model=\"qwen3:8b\")"
   ]
  },
  {
   "cell_type": "code",
   "execution_count": 3,
   "id": "93682959",
   "metadata": {},
   "outputs": [],
   "source": [
    "class AgentState(TypedDict):\n",
    "    question: str               # User question (immutable)\n",
    "    draft: str                  # Initial response draft\n",
    "    critique: Annotated[str, \"After reflection\"]  # Self-critique of draft\n",
    "    refined: Annotated[str, \"After refinement\"]   # Final refined answer\n",
    "    iterations: Annotated[int, \"Refinement count\"] # Track improvement cycles\n",
    "    status: Literal[\"draft\", \"critique\", \"refined\", \"final\"]  # Workflow stage"
   ]
  },
  {
   "cell_type": "code",
   "execution_count": 4,
   "id": "10fc1c00",
   "metadata": {},
   "outputs": [],
   "source": [
    "@tool\n",
    "def ddg_search(query: str) -> str:\n",
    "    \"\"\"Search DuckDuckGo for current information. Input: search query string\"\"\"\n",
    "    try:\n",
    "        # Retry logic to handle transient issues, know issue\n",
    "        results = None\n",
    "        RETRY_COUNT = 5\n",
    "        for i in range(RETRY_COUNT):\n",
    "            with DDGS() as ddgs:\n",
    "                results = ddgs.text(query, max_results=3)\n",
    "            \n",
    "            if results is not None and len(results) > 0:\n",
    "                break\n",
    "            time.sleep(1)\n",
    "\n",
    "        if not results:\n",
    "            return \"No search results found\"\n",
    "            \n",
    "        formatted_results = []\n",
    "        for i, result in enumerate(results, 1):\n",
    "            formatted_results.append(\n",
    "                f\"{i}. {result.get('title', 'No title')}\\n\"\n",
    "                f\"   {result.get('body', 'No description')}\\n\"\n",
    "                f\"   URL: {result.get('href', 'No URL')}\"\n",
    "            )\n",
    "        \n",
    "        return \"\\n\\n\".join(formatted_results)\n",
    "    except Exception as e:\n",
    "        return f\"Search error: {str(e)}\"\n"
   ]
  },
  {
   "cell_type": "code",
   "execution_count": 5,
   "id": "5c646081",
   "metadata": {},
   "outputs": [],
   "source": [
    "DRAFT_PROMPT = ChatPromptTemplate.from_template(\"\"\"You're an AI assistant. Answer the question clearly and concisely.\n",
    "<question>\n",
    "{question}\n",
    "</question>\n",
    "Response:\"\"\"\n",
    ")"
   ]
  },
  {
   "cell_type": "code",
   "execution_count": null,
   "id": "a745b0b7",
   "metadata": {},
   "outputs": [],
   "source": [
    "CRITIQUE_PROMPT = ChatPromptTemplate.from_template(\n",
    "    \"\"\"Critique this response to the question. Identify 3 flaws: factual inaccuracies, \n",
    "lack of clarity, missing information, or poor structure. Be specific.\n",
    "\n",
    "<question>\n",
    "{question}\n",
    "</question>\n",
    "\n",
    "<draft_response>\n",
    "{draft}\n",
    "</draft_response>\n",
    "\n",
    "Critique:\"\"\", MessagesPlaceholder(variable_name=\"agent_scratchpad\")\n",
    ")"
   ]
  },
  {
   "cell_type": "code",
   "execution_count": null,
   "id": "9010a2bf",
   "metadata": {},
   "outputs": [],
   "source": [
    "REFINE_PROMPT = ChatPromptTemplate.from_template(\n",
    "    \"\"\"Improve this response based on the critique. Maintain original style. \n",
    "Address all critique points.\n",
    "\n",
    "<question>\n",
    "{question}\n",
    "</question>\n",
    "\n",
    "<critique>\n",
    "{critique}\n",
    "</critique>\n",
    "\n",
    "<original_response>\n",
    "{draft}\n",
    "</original_response>\n",
    "\n",
    "Improved Response:\"\"\", MessagesPlaceholder(variable_name=\"agent_scratchpad\")\n",
    ")"
   ]
  },
  {
   "cell_type": "code",
   "execution_count": 8,
   "id": "3f92f2ce",
   "metadata": {},
   "outputs": [],
   "source": [
    "def generate_initial_draft(state: AgentState):\n",
    "    \"\"\"Node: Create initial response draft\"\"\"\n",
    "    chain = DRAFT_PROMPT | llm\n",
    "    response = chain.invoke({\"question\": state[\"question\"]})\n",
    "    return {\n",
    "        \"draft\": response.content,\n",
    "        \"iterations\": 0,\n",
    "        \"status\": \"draft\"\n",
    "    }"
   ]
  },
  {
   "cell_type": "code",
   "execution_count": 9,
   "id": "0bbdcdb8",
   "metadata": {},
   "outputs": [],
   "source": [
    "def reflect_on_draft(state: AgentState):\n",
    "    \"\"\"Node: Generate critique of initial draft\"\"\"\n",
    "    chain = CRITIQUE_PROMPT | llm\n",
    "    response = chain.invoke({\n",
    "        \"question\": state[\"question\"],\n",
    "        \"draft\": state[\"draft\"]\n",
    "    })\n",
    "    return {\n",
    "        \"critique\": response.content,\n",
    "        \"status\": \"critique\"\n",
    "    }"
   ]
  },
  {
   "cell_type": "code",
   "execution_count": 10,
   "id": "f09ccb4d",
   "metadata": {},
   "outputs": [],
   "source": [
    "def refine_response(state: AgentState):\n",
    "    \"\"\"Node: Improve draft based on critique\"\"\"\n",
    "    chain = REFINE_PROMPT | llm\n",
    "    response = chain.invoke({\n",
    "        \"question\": state[\"question\"],\n",
    "        \"draft\": state[\"draft\"],\n",
    "        \"critique\": state[\"critique\"]\n",
    "    })\n",
    "    return {\n",
    "        \"refined\": response.content,\n",
    "        \"iterations\": state[\"iterations\"] + 1,\n",
    "        \"status\": \"refined\"\n",
    "    }\n"
   ]
  },
  {
   "cell_type": "code",
   "execution_count": 11,
   "id": "80e916ba",
   "metadata": {},
   "outputs": [],
   "source": [
    "def quality_validator(state: AgentState):\n",
    "    \"\"\"Decision node: Determine if refinement is needed\"\"\"\n",
    "    # Simple iteration-based stopping condition\n",
    "    if state[\"iterations\"] >= 2:  # Max 2 refinement cycles\n",
    "        return \"final\"\n",
    "    \n",
    "    # Content-based validation (simplified)\n",
    "    critique = state[\"critique\"].lower()\n",
    "    if any(term in critique for term in [\"excellent\", \"perfect\", \"no issues\"]):\n",
    "        return \"final\"\n",
    "    return \"needs_refinement\""
   ]
  },
  {
   "cell_type": "code",
   "execution_count": 12,
   "id": "735ab214",
   "metadata": {},
   "outputs": [],
   "source": [
    "workflow = StateGraph(AgentState)\n",
    " \n",
    "workflow.add_node(\"draft\", generate_initial_draft)\n",
    "workflow.add_node(\"critique\", reflect_on_draft)\n",
    "workflow.add_node(\"refine\", refine_response)\n",
    "\n",
    "workflow.add_edge(START, \"draft\")\n",
    "workflow.add_edge(\"draft\", \"critique\")\n",
    "workflow.add_edge(\"critique\", \"refine\")\n",
    "\n",
    "workflow.add_conditional_edges(\n",
    "    \"refine\",\n",
    "    quality_validator,\n",
    "    {\n",
    "        \"final\": END,\n",
    "        \"needs_refinement\": \"critique\"  # Loop back for re-critique\n",
    "    }\n",
    ")\n",
    "\n",
    "agent = workflow.compile()"
   ]
  },
  {
   "cell_type": "code",
   "execution_count": 13,
   "id": "34d74616",
   "metadata": {},
   "outputs": [
    {
     "data": {
      "image/png": "[encoded data removed]",
      "text/plain": [
       "<langgraph.graph.state.CompiledStateGraph object at 0x0000016C84318E60>"
      ]
     },
     "execution_count": 13,
     "metadata": {},
     "output_type": "execute_result"
    }
   ],
   "source": [
    "agent"
   ]
  },
  {
   "cell_type": "code",
   "execution_count": 14,
   "id": "47b10b8f",
   "metadata": {},
   "outputs": [],
   "source": [
    "def run_agent(question: str):\n",
    "    \"\"\"Execute the reflection agent\"\"\"\n",
    "    result = agent.invoke({\n",
    "        \"question\": question,\n",
    "        \"draft\": \"\",\n",
    "        \"critique\": \"\",\n",
    "        \"refined\": \"\",\n",
    "        \"iterations\": 0,\n",
    "        \"status\": \"draft\"\n",
    "    })\n",
    "    return result"
   ]
  },
  {
   "cell_type": "code",
   "execution_count": null,
   "id": "a7060fdc",
   "metadata": {},
   "outputs": [],
   "source": [
    "QUESTION = \"Explain quantum entanglement in simple terms\"\n",
    "    \n",
    "# Run the agent\n",
    "final_state = run_agent(QUESTION)\n",
    "\n",
    "# Display results\n",
    "print(\"\\n===== FINAL OUTPUT =====\")\n",
    "print(f\"Refined Answer ({final_state['iterations']} refinements):\")\n",
    "print(final_state[\"refined\"])\n",
    "\n",
    "print(\"\\n===== DEBUG INFO =====\")\n",
    "print(f\"Initial Draft:\\n{final_state['draft']}\\n\")\n",
    "print(f\"Critique:\\n{final_state['critique']}\")"
   ]
  },
  {
   "cell_type": "markdown",
   "id": "a804dc5b",
   "metadata": {},
   "source": [
    "## **QWEN-3:8b**\n"
   ]
  },
  {
   "cell_type": "markdown",
   "id": "406ceb38",
   "metadata": {},
   "source": [
    "## **QWEN-3:4b**\n"
   ]
  },
  {
   "cell_type": "markdown",
   "id": "4dbf83b4",
   "metadata": {},
   "source": [
    "## **LLAMA-3.1:8b**\n"
   ]
  }
 ],
 "metadata": {
  "kernelspec": {
   "display_name": "Python 3",
   "language": "python",
   "name": "python3"
  },
  "language_info": {
   "codemirror_mode": {
    "name": "ipython",
    "version": 3
   },
   "file_extension": ".py",
   "mimetype": "text/x-python",
   "name": "python",
   "nbconvert_exporter": "python",
   "pygments_lexer": "ipython3",
   "version": "3.12.3"
  }
 },
 "nbformat": 4,
 "nbformat_minor": 5
}
