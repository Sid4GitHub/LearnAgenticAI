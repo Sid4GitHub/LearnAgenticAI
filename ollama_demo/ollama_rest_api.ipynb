{
 "cells": [
  {
   "cell_type": "code",
   "execution_count": null,
   "id": "689605ff",
   "metadata": {},
   "outputs": [
    {
     "name": "stdout",
     "output_type": "stream",
     "text": [
      "The capital of France is **Paris**. \n",
      "\n"
     ]
    }
   ],
   "source": [
    "import requests\n",
    "class OllamaLLM:\n",
    "    def __init__(self, model):\n",
    "        self.model = model\n",
    "        self.base_url = \"http://localhost:11434\"\n",
    "\n",
    "    def invoke(self, prompt):\n",
    "        #print(f\"Invoking model: {self.model} with prompt: {prompt}\")\n",
    "        response = requests.post(\n",
    "            f\"{self.base_url}/api/chat\",\n",
    "            json={\"model\": self.model, \"messages\": [{\"role\": \"user\", \"content\": prompt}], \"stream\": False}\n",
    "        )\n",
    "        #print(f\"Response status code: {response.status_code}\")\n",
    "        #print(f\"Response text: {response.text}\")\n",
    "        if response.status_code == 200:\n",
    "            return response.json().get(\"message\", \"\").get(\"content\", \"\")\n",
    "        else:\n",
    "            raise Exception(f\"Error invoking model: {response.text}\")\n",
    "        \n",
    "ollama_llm = OllamaLLM(model=\"gemma3n:e2b\")\n",
    "res = ollama_llm.invoke(\"What is the capital of France?\")\n",
    "print(res)  # Output the result"
   ]
  }
 ],
 "metadata": {
  "kernelspec": {
   "display_name": "Python 3",
   "language": "python",
   "name": "python3"
  },
  "language_info": {
   "codemirror_mode": {
    "name": "ipython",
    "version": 3
   },
   "file_extension": ".py",
   "mimetype": "text/x-python",
   "name": "python",
   "nbconvert_exporter": "python",
   "pygments_lexer": "ipython3",
   "version": "3.12.3"
  }
 },
 "nbformat": 4,
 "nbformat_minor": 5
}
